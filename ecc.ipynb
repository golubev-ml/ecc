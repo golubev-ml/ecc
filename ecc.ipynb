{
 "cells": [
  {
   "cell_type": "code",
   "execution_count": 1,
   "metadata": {},
   "outputs": [],
   "source": [
    "def inv(a, n):\n",
    "    t = 0;     newt = 1;    \n",
    "    r = n;     newr = a % n;    \n",
    "    while newr != 0:\n",
    "        quotient = int(r / newr)\n",
    "        (t, newt) = (newt, t - quotient * newt) \n",
    "        (r, newr) = (newr, r - quotient * newr)\n",
    "    if r > 1: return \"a is not invertible\"\n",
    "    if t < 0: t = t + n\n",
    "    return t"
   ]
  },
  {
   "cell_type": "code",
   "execution_count": 11,
   "metadata": {},
   "outputs": [],
   "source": [
    "# a = 10; b = 13; p = 23; n = 31;\n",
    "a = 1 ; b = -1; p=10177; n = 10331;"
   ]
  },
  {
   "cell_type": "code",
   "execution_count": 12,
   "metadata": {},
   "outputs": [],
   "source": [
    "def ec(x):\n",
    "    return (x*x*x+a*x+b) % p"
   ]
  },
  {
   "cell_type": "code",
   "execution_count": 13,
   "metadata": {},
   "outputs": [],
   "source": [
    "O = (0, 0)\n",
    "from itertools import product\n",
    "def compute_points():\n",
    "    points = [O]\n",
    "    for x, y in product(range(p), repeat = 2):\n",
    "        if ec(x) == y*y%p:\n",
    "            points.append((x, y))\n",
    "    return points"
   ]
  },
  {
   "cell_type": "code",
   "execution_count": 14,
   "metadata": {},
   "outputs": [],
   "source": [
    "def point_add(P, Q):\n",
    "    if P == O:\n",
    "        return Q\n",
    "    if Q == O:\n",
    "        return P\n",
    "    \n",
    "    (x1, y1) = P; (x2, y2) = Q;\n",
    "    if x1 == x2 and y1 != y2:\n",
    "        return O\n",
    "    \n",
    "    if x1 != x2:\n",
    "        s = (y1-y2)*inv(x1-x2, p)%p\n",
    "    if x1 == x2 and y1 == y2 and y1 != 0:\n",
    "        s = (3*x1*x1 + a)*inv(2*y1, p)%p\n",
    "        \n",
    "    xr = s * s - x1 - x2\n",
    "    yr = s * (x1 - xr) - y1\n",
    "    return (xr % p, yr % p)"
   ]
  },
  {
   "cell_type": "code",
   "execution_count": 15,
   "metadata": {},
   "outputs": [],
   "source": [
    "def point_double(P):\n",
    "    return point_add(P, P)"
   ]
  },
  {
   "cell_type": "code",
   "execution_count": 16,
   "metadata": {},
   "outputs": [],
   "source": [
    "def mult(k, P):\n",
    "    N = P; Q = O;\n",
    "    while k > 0:\n",
    "        if k % 2 == 1:\n",
    "            Q = point_add(Q, N)\n",
    "        N = point_double(N)\n",
    "        k = int(k/2)\n",
    "    return Q"
   ]
  },
  {
   "cell_type": "code",
   "execution_count": 52,
   "metadata": {},
   "outputs": [],
   "source": [
    "def neg(P):\n",
    "    (x, y) = P\n",
    "    return (x, -y)"
   ]
  },
  {
   "cell_type": "code",
   "execution_count": 17,
   "metadata": {},
   "outputs": [
    {
     "name": "stdout",
     "output_type": "stream",
     "text": [
      "(3379, 2703)\n"
     ]
    }
   ],
   "source": [
    "from random import randint\n",
    "points = compute_points()\n",
    "assert len(points) == n\n",
    "G = points[randint(1, n - 1)]\n",
    "print(G)"
   ]
  },
  {
   "cell_type": "code",
   "execution_count": 57,
   "metadata": {},
   "outputs": [],
   "source": [
    "import math\n",
    "import random\n",
    "def log(P, Q):\n",
    "    sqrt_n = int(math.sqrt(n)) + 1\n",
    "    R = O\n",
    "    precomputed = {O: 0}\n",
    "    for a in range(1, sqrt_n):\n",
    "        R = point_add(R, P)\n",
    "        precomputed[R] = a\n",
    "\n",
    "    R = Q\n",
    "    S = mult(sqrt_n, neg(P))\n",
    "    for b in range(sqrt_n):\n",
    "        try:\n",
    "            a = precomputed[R]\n",
    "        except KeyError:\n",
    "            pass\n",
    "        else:\n",
    "            print(\"took {} steps\".format(sqrt_n + b))\n",
    "            logarithm = a + sqrt_n * b\n",
    "            return logarithm\n",
    "\n",
    "        R = point_add(R, S)\n",
    "\n",
    "    raise AssertionError('logarithm not found')"
   ]
  },
  {
   "cell_type": "code",
   "execution_count": 27,
   "metadata": {},
   "outputs": [],
   "source": [
    "def bitsof(bt, nbits):\n",
    "    neededbytes = (nbits+7)//8\n",
    "    i = int.from_bytes(bt[:neededbytes], 'big')\n",
    "    if nbits % 8:\n",
    "        i >>= 8 - nbits % 8\n",
    "    return i"
   ]
  },
  {
   "cell_type": "code",
   "execution_count": 28,
   "metadata": {},
   "outputs": [],
   "source": [
    "from hashlib import sha256\n",
    "def get_z(message):\n",
    "    e = sha256(message.encode()).digest()\n",
    "    L_n = n.bit_length()\n",
    "    return bitsof(e, L_n)"
   ]
  },
  {
   "cell_type": "code",
   "execution_count": 29,
   "metadata": {},
   "outputs": [],
   "source": [
    "def ecdsa_sign(private_key, message):\n",
    "    z = get_z(message)\n",
    "    (r,s) = (0,0)\n",
    "    while r == 0 or s == 0:\n",
    "        k = randint(1, n - 1)\n",
    "        (x,y) = mult(k, G)\n",
    "        r = x % n\n",
    "        s = (inv(k, n) * (z + r * private_key)) % n\n",
    "    return (r,s)"
   ]
  },
  {
   "cell_type": "code",
   "execution_count": 39,
   "metadata": {},
   "outputs": [],
   "source": [
    "def ecdsa_verify(public_key, message, signature):\n",
    "    if public_key == O:\n",
    "        return False\n",
    "    (x,y)  = public_key\n",
    "    if ec(x) != y*y%p:\n",
    "        return False\n",
    "    if mult(n, public_key) != O:\n",
    "        return False\n",
    "    (r,s) = signature\n",
    "    if r < 1 or r >= n or s < 1 or s >= n:\n",
    "        return False\n",
    "    z = get_z(message)\n",
    "    u = (z * inv(s, n)) % n\n",
    "    v = (r * inv(s, n)) % n\n",
    "    (x_s, y_s) = point_add(mult(u, G),mult(v, public_key))\n",
    "    if (x_s, y_s) == O:\n",
    "        return False\n",
    "    if r != x_s:\n",
    "        return False\n",
    "    return True"
   ]
  },
  {
   "cell_type": "code",
   "execution_count": 59,
   "metadata": {},
   "outputs": [
    {
     "name": "stdout",
     "output_type": "stream",
     "text": [
      "True\n",
      "took 177 steps\n",
      "log: 7731 , key:  7731\n"
     ]
    }
   ],
   "source": [
    "private_key = randint(2, n - 1)\n",
    "public_key = mult(private_key, G)\n",
    "(r, s) = ecdsa_sign(private_key, \"maxim\")\n",
    "print(ecdsa_verify(public_key, \"maxim\", (r, s)))\n",
    "print(\"log:\" , log(G, public_key) , \", key: \", private_key)"
   ]
  },
  {
   "cell_type": "code",
   "execution_count": 24,
   "metadata": {},
   "outputs": [],
   "source": [
    "import networkx as nx\n",
    "MDG = nx.MultiDiGraph()\n",
    "P = O\n",
    "MDG.add_node('{}'.format(O), pos=O)\n",
    "for i in range(500):\n",
    "    P_new = point_add(P, G)\n",
    "    MDG.add_node('{}'.format(P_new), pos=P_new)\n",
    "    MDG.add_edges_from([('{}'.format(P), '{}'.format(P_new))])\n",
    "    P = P_new\n"
   ]
  },
  {
   "cell_type": "code",
   "execution_count": 25,
   "metadata": {},
   "outputs": [],
   "source": [
    "import matplotlib\n",
    "matplotlib.use('agg')\n",
    "import matplotlib.pyplot as plt\n",
    "\n",
    "plt.figure(figsize=(50,50))\n",
    "nx.draw(MDG,\n",
    "        nx.get_node_attributes(MDG, 'pos'),\n",
    "        with_labels=True, node_size=500,\n",
    "        arrowsize=50,\n",
    "        arrowstyle='-|>',\n",
    "        width=4)\n",
    "plt.savefig('ecc23.png')"
   ]
  },
  {
   "cell_type": "code",
   "execution_count": null,
   "metadata": {},
   "outputs": [],
   "source": []
  }
 ],
 "metadata": {
  "kernelspec": {
   "display_name": "Python 3",
   "language": "python",
   "name": "python3"
  },
  "language_info": {
   "codemirror_mode": {
    "name": "ipython",
    "version": 3
   },
   "file_extension": ".py",
   "mimetype": "text/x-python",
   "name": "python",
   "nbconvert_exporter": "python",
   "pygments_lexer": "ipython3",
   "version": "3.6.0"
  }
 },
 "nbformat": 4,
 "nbformat_minor": 2
}
